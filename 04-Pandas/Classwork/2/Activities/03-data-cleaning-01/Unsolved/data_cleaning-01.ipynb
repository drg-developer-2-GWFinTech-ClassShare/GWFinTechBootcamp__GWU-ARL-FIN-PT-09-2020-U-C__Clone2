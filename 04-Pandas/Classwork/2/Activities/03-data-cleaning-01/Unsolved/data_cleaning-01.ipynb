{
 "cells": [
  {
   "cell_type": "markdown",
   "metadata": {},
   "source": [
    "# Cleaning Data in Pandas DataFrames"
   ]
  },
  {
   "cell_type": "markdown",
   "metadata": {},
   "source": [
    "## 1. Import libraries and dependencies"
   ]
  },
  {
   "cell_type": "code",
   "execution_count": 102,
   "metadata": {},
   "outputs": [],
   "source": [
    "# Import the pandas and pathlib libraries\n",
    "import pandas as pd\n",
    "from pathlib import Path"
   ]
  },
  {
   "cell_type": "markdown",
   "metadata": {},
   "source": [
    "## 2. Create a Path to the File Using Pathlib"
   ]
  },
  {
   "cell_type": "code",
   "execution_count": 103,
   "metadata": {},
   "outputs": [],
   "source": [
    "# Use the Pathlib libary to set the path to the CSV\n",
    "people_cleansed_filepath = Path(\"../Resources/people_cleansed.csv\")\n",
    "people_reordered_filepath = Path(\"../Resources/people_reordered.csv\")"
   ]
  },
  {
   "cell_type": "markdown",
   "metadata": {},
   "source": [
    "## 3. Read the CSV into a Pandas DataFrame"
   ]
  },
  {
   "cell_type": "code",
   "execution_count": 104,
   "metadata": {},
   "outputs": [
    {
     "data": {
      "text/html": [
       "<div>\n",
       "<style scoped>\n",
       "    .dataframe tbody tr th:only-of-type {\n",
       "        vertical-align: middle;\n",
       "    }\n",
       "\n",
       "    .dataframe tbody tr th {\n",
       "        vertical-align: top;\n",
       "    }\n",
       "\n",
       "    .dataframe thead th {\n",
       "        text-align: right;\n",
       "    }\n",
       "</style>\n",
       "<table border=\"1\" class=\"dataframe\">\n",
       "  <thead>\n",
       "    <tr style=\"text-align: right;\">\n",
       "      <th></th>\n",
       "      <th>Person_ID</th>\n",
       "      <th>Last_Name</th>\n",
       "      <th>First_Name</th>\n",
       "      <th>Gender</th>\n",
       "      <th>University</th>\n",
       "      <th>Occupation</th>\n",
       "      <th>Salary</th>\n",
       "      <th>Email</th>\n",
       "      <th>Age</th>\n",
       "    </tr>\n",
       "  </thead>\n",
       "  <tbody>\n",
       "    <tr>\n",
       "      <th>0</th>\n",
       "      <td>1</td>\n",
       "      <td>Lenormand</td>\n",
       "      <td>Keriann</td>\n",
       "      <td>Female</td>\n",
       "      <td>Aurora University</td>\n",
       "      <td>Nurse Practicioner</td>\n",
       "      <td>58135.0</td>\n",
       "      <td>klenormand0@businessinsider.com</td>\n",
       "      <td>27</td>\n",
       "    </tr>\n",
       "    <tr>\n",
       "      <th>1</th>\n",
       "      <td>2</td>\n",
       "      <td>Rupke</td>\n",
       "      <td>Huntley</td>\n",
       "      <td>Male</td>\n",
       "      <td>Osaka University of Economics</td>\n",
       "      <td>Project Manager</td>\n",
       "      <td>96053.0</td>\n",
       "      <td>hrupke1@reuters.com</td>\n",
       "      <td>22</td>\n",
       "    </tr>\n",
       "    <tr>\n",
       "      <th>2</th>\n",
       "      <td>3</td>\n",
       "      <td>Dalgarnowch</td>\n",
       "      <td>Gorden</td>\n",
       "      <td>Male</td>\n",
       "      <td>Ludong University</td>\n",
       "      <td>Environmental Tech</td>\n",
       "      <td>59196.0</td>\n",
       "      <td>gdalgarnowch2@microsoft.com</td>\n",
       "      <td>40</td>\n",
       "    </tr>\n",
       "    <tr>\n",
       "      <th>3</th>\n",
       "      <td>4</td>\n",
       "      <td>Unnamed</td>\n",
       "      <td>Cullie</td>\n",
       "      <td>Male</td>\n",
       "      <td>Université des Sciences et de la Technologie d...</td>\n",
       "      <td>Legal Assistant</td>\n",
       "      <td>88493.0</td>\n",
       "      <td>cputten3@nymag.com</td>\n",
       "      <td>62</td>\n",
       "    </tr>\n",
       "    <tr>\n",
       "      <th>4</th>\n",
       "      <td>5</td>\n",
       "      <td>Strangman</td>\n",
       "      <td>Ariel</td>\n",
       "      <td>Female</td>\n",
       "      <td>Boise State University</td>\n",
       "      <td>Project Manager</td>\n",
       "      <td>89073.0</td>\n",
       "      <td>astrangman4@bravesites.com</td>\n",
       "      <td>47</td>\n",
       "    </tr>\n",
       "  </tbody>\n",
       "</table>\n",
       "</div>"
      ],
      "text/plain": [
       "   Person_ID    Last_Name First_Name  Gender  \\\n",
       "0          1    Lenormand    Keriann  Female   \n",
       "1          2        Rupke    Huntley    Male   \n",
       "2          3  Dalgarnowch     Gorden    Male   \n",
       "3          4      Unnamed     Cullie    Male   \n",
       "4          5    Strangman      Ariel  Female   \n",
       "\n",
       "                                          University          Occupation  \\\n",
       "0                                  Aurora University  Nurse Practicioner   \n",
       "1                      Osaka University of Economics     Project Manager   \n",
       "2                                  Ludong University  Environmental Tech   \n",
       "3  Université des Sciences et de la Technologie d...     Legal Assistant   \n",
       "4                             Boise State University     Project Manager   \n",
       "\n",
       "    Salary                            Email  Age  \n",
       "0  58135.0  klenormand0@businessinsider.com   27  \n",
       "1  96053.0              hrupke1@reuters.com   22  \n",
       "2  59196.0      gdalgarnowch2@microsoft.com   40  \n",
       "3  88493.0               cputten3@nymag.com   62  \n",
       "4  89073.0       astrangman4@bravesites.com   47  "
      ]
     },
     "execution_count": 104,
     "metadata": {},
     "output_type": "execute_result"
    }
   ],
   "source": [
    "# Use the file path to read the CSV into a DataFrame and display a few rows\n",
    "people_cleansed_df = pd.read_csv(people_cleansed_filepath)\n",
    "people_reordered_df = pd.read_csv(people_reordered_filepath)\n",
    "people_cleansed_df.head()"
   ]
  },
  {
   "cell_type": "markdown",
   "metadata": {},
   "source": [
    "## 4. View Column Data Types"
   ]
  },
  {
   "cell_type": "code",
   "execution_count": 105,
   "metadata": {},
   "outputs": [
    {
     "data": {
      "text/plain": [
       "Person_ID       int64\n",
       "Last_Name      object\n",
       "First_Name     object\n",
       "Gender         object\n",
       "University     object\n",
       "Occupation     object\n",
       "Salary        float64\n",
       "Email          object\n",
       "Age             int64\n",
       "dtype: object"
      ]
     },
     "execution_count": 105,
     "metadata": {},
     "output_type": "execute_result"
    }
   ],
   "source": [
    "# Use the `dtypes` attribute to list the column data types\n",
    "people_cleansed_df.dtypes"
   ]
  },
  {
   "cell_type": "markdown",
   "metadata": {},
   "source": [
    "## 5. Drop Extraneous Columns"
   ]
  },
  {
   "cell_type": "code",
   "execution_count": 106,
   "metadata": {},
   "outputs": [],
   "source": [
    "# Use the `drop` function to drop specific columns\n",
    "people_cleansed_df.drop(columns=[\"Gender\", \"University\"], inplace=True)"
   ]
  },
  {
   "cell_type": "markdown",
   "metadata": {},
   "source": [
    "---"
   ]
  },
  {
   "cell_type": "markdown",
   "metadata": {},
   "source": [
    "## 6. Identify Data Quality Issues"
   ]
  },
  {
   "cell_type": "markdown",
   "metadata": {},
   "source": [
    "### 1. Identify the Number of Rows"
   ]
  },
  {
   "cell_type": "code",
   "execution_count": 107,
   "metadata": {},
   "outputs": [
    {
     "data": {
      "text/plain": [
       "Person_ID     973\n",
       "Last_Name     973\n",
       "First_Name    973\n",
       "Occupation    973\n",
       "Salary        973\n",
       "Email         973\n",
       "Age           973\n",
       "dtype: int64"
      ]
     },
     "execution_count": 107,
     "metadata": {},
     "output_type": "execute_result"
    }
   ],
   "source": [
    "# Use the `count` function to view count of non-null values for each column\n",
    "people_cleansed_df.dropna(inplace=True)\n",
    "people_cleansed_df.count()"
   ]
  },
  {
   "cell_type": "markdown",
   "metadata": {},
   "source": [
    "### 2. Identify Frequency Counts of a Specific Column"
   ]
  },
  {
   "cell_type": "code",
   "execution_count": 108,
   "metadata": {},
   "outputs": [
    {
     "data": {
      "text/plain": [
       "Unnamed     6\n",
       "Ailbert     3\n",
       "Israel      3\n",
       "Mable       2\n",
       "Denny       2\n",
       "           ..\n",
       "Hilliard    1\n",
       "Loreen      1\n",
       "Rayner      1\n",
       "Freddy      1\n",
       "Vaughan     1\n",
       "Name: First_Name, Length: 895, dtype: int64"
      ]
     },
     "execution_count": 108,
     "metadata": {},
     "output_type": "execute_result"
    }
   ],
   "source": [
    "# Identifying frequency counts of the `first_name` column\n",
    "people_cleansed_df[\"First_Name\"].value_counts()"
   ]
  },
  {
   "cell_type": "markdown",
   "metadata": {},
   "source": [
    "### 3. Identify Null Values"
   ]
  },
  {
   "cell_type": "code",
   "execution_count": 109,
   "metadata": {},
   "outputs": [
    {
     "data": {
      "text/plain": [
       "Person_ID     0\n",
       "Last_Name     0\n",
       "First_Name    0\n",
       "Occupation    0\n",
       "Salary        0\n",
       "Email         0\n",
       "Age           0\n",
       "dtype: int64"
      ]
     },
     "execution_count": 109,
     "metadata": {},
     "output_type": "execute_result"
    }
   ],
   "source": [
    "# Checking for null\n",
    "people_cleansed_df.isnull().sum()"
   ]
  },
  {
   "cell_type": "markdown",
   "metadata": {},
   "source": [
    "### 4. Determine the Number of Nulls"
   ]
  },
  {
   "cell_type": "code",
   "execution_count": 110,
   "metadata": {},
   "outputs": [
    {
     "data": {
      "text/plain": [
       "Person_ID     0\n",
       "Last_Name     0\n",
       "First_Name    0\n",
       "Occupation    0\n",
       "Salary        0\n",
       "Email         0\n",
       "Age           0\n",
       "dtype: int64"
      ]
     },
     "execution_count": 110,
     "metadata": {},
     "output_type": "execute_result"
    }
   ],
   "source": [
    "# Determining number of nulls\n",
    "people_cleansed_df.isnull().sum()"
   ]
  },
  {
   "cell_type": "markdown",
   "metadata": {},
   "source": [
    "### 5. Determining the Percentage of Nulls for each Column"
   ]
  },
  {
   "cell_type": "code",
   "execution_count": 111,
   "metadata": {},
   "outputs": [
    {
     "data": {
      "text/plain": [
       "Person_ID     0.0\n",
       "Last_Name     0.0\n",
       "First_Name    0.0\n",
       "Occupation    0.0\n",
       "Salary        0.0\n",
       "Email         0.0\n",
       "Age           0.0\n",
       "dtype: float64"
      ]
     },
     "execution_count": 111,
     "metadata": {},
     "output_type": "execute_result"
    }
   ],
   "source": [
    "# Determining percentage of nulls\n",
    "percentage_null = 100.0 * people_cleansed_df.isnull().sum() / len(people_cleansed_df)\n",
    "percentage_null"
   ]
  },
  {
   "cell_type": "markdown",
   "metadata": {},
   "source": [
    "### 6. Check for Duplicate Rows"
   ]
  },
  {
   "cell_type": "code",
   "execution_count": 112,
   "metadata": {},
   "outputs": [
    {
     "data": {
      "text/plain": [
       "1"
      ]
     },
     "execution_count": 112,
     "metadata": {},
     "output_type": "execute_result"
    }
   ],
   "source": [
    "# Use the `duplicated` function to determine the existance of duplicate rows: True or False\n",
    "duplicates = people_cleansed_df.duplicated()\n",
    "duplicates.sum()"
   ]
  },
  {
   "cell_type": "markdown",
   "metadata": {},
   "source": [
    "### 7. Check for Duplicate `first_name` Values"
   ]
  },
  {
   "cell_type": "code",
   "execution_count": 113,
   "metadata": {},
   "outputs": [
    {
     "name": "stdout",
     "output_type": "stream",
     "text": [
      "78\n",
      "78\n"
     ]
    }
   ],
   "source": [
    "# Use the `duplicated` function in conjunction with a list of columns to \n",
    "# determine the existence of duplicate rows based on the selected columns\n",
    "print(people_cleansed_df[\"First_Name\"].duplicated().sum())\n",
    "print(people_cleansed_df.duplicated(subset=[\"First_Name\"]).sum())"
   ]
  },
  {
   "cell_type": "markdown",
   "metadata": {},
   "source": [
    "---"
   ]
  },
  {
   "cell_type": "markdown",
   "metadata": {},
   "source": [
    "## 7. Resolve Data Quality Issues"
   ]
  },
  {
   "cell_type": "markdown",
   "metadata": {},
   "source": [
    "### 1. Fill First_Name and Last_Name Null Values with Default Value \"Unnamed\""
   ]
  },
  {
   "cell_type": "code",
   "execution_count": 114,
   "metadata": {},
   "outputs": [],
   "source": [
    "# Cleanse nulls from DataFrame by filling na\n"
   ]
  },
  {
   "cell_type": "markdown",
   "metadata": {},
   "source": [
    "### 2. Drop Remaining Records with Nulls from DataFrame"
   ]
  },
  {
   "cell_type": "code",
   "execution_count": 115,
   "metadata": {},
   "outputs": [],
   "source": [
    "# Use the `dropna` function to drop whole records that have at least one null value\n"
   ]
  },
  {
   "cell_type": "markdown",
   "metadata": {},
   "source": [
    "### 3. Check Null Counts for Each Column (Again)"
   ]
  },
  {
   "cell_type": "code",
   "execution_count": 116,
   "metadata": {},
   "outputs": [],
   "source": [
    "# Use the `isnull` function in conjunction with the `sum` function to count the number of null values for each column\n"
   ]
  },
  {
   "cell_type": "markdown",
   "metadata": {},
   "source": [
    "### 4. Cleanse data by Dropping Duplicates"
   ]
  },
  {
   "cell_type": "code",
   "execution_count": 117,
   "metadata": {},
   "outputs": [],
   "source": [
    "# Use the `drop_duplicates` function with the `subset` parameter to \n",
    "# drop duplicates based on a selection of columns\n"
   ]
  },
  {
   "cell_type": "markdown",
   "metadata": {},
   "source": [
    "### 5. Convert Columns to Different DataTypes"
   ]
  },
  {
   "cell_type": "code",
   "execution_count": 118,
   "metadata": {},
   "outputs": [],
   "source": [
    "# Use the `as_type` function to convert `Person_ID` from `float` to `int`\n"
   ]
  },
  {
   "cell_type": "markdown",
   "metadata": {},
   "source": [
    "## 8. Save Cleansed Data to New CSV"
   ]
  },
  {
   "cell_type": "code",
   "execution_count": 119,
   "metadata": {},
   "outputs": [],
   "source": [
    "# Save modified DataFrame to the Resources folder. \n",
    "# Use the `index` parameter set to `False` to exclude saving the index.\n"
   ]
  }
 ],
 "metadata": {
  "kernelspec": {
   "display_name": "Python 3",
   "language": "python",
   "name": "python3"
  },
  "language_info": {
   "codemirror_mode": {
    "name": "ipython",
    "version": 3
   },
   "file_extension": ".py",
   "mimetype": "text/x-python",
   "name": "python",
   "nbconvert_exporter": "python",
   "pygments_lexer": "ipython3",
   "version": "3.8.3"
  }
 },
 "nbformat": 4,
 "nbformat_minor": 4
}
